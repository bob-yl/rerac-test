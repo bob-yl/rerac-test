{
 "cells": [
  {
   "cell_type": "code",
   "outputs": [],
   "source": [
    "# Import PySpark\n",
    "from pyspark.sql import SparkSession, Window\n",
    "from pyspark.sql.types import StructType, StructField\n",
    "from pyspark.sql.types import DecimalType, IntegerType, StringType\n",
    "from pyspark import SparkConf\n",
    "import pyspark.sql.functions as sf\n",
    "import sagemaker_pyspark\n",
    "import botocore.session\n",
    "\n",
    "\n",
    "spark = (\n",
    "    SparkSession\n",
    "    .builder\n",
    "    .config('spark.driver.extraClassPath', \":\".join(sagemaker_pyspark.classpath_jars()))\n",
    "    .appName(\"rerac_part_3\")\n",
    "    .getOrCreate()\n",
    ")\n"
   ],
   "metadata": {
    "collapsed": false
   },
   "id": "65fc471f92d83503"
  },
  {
   "cell_type": "markdown",
   "source": [
    "Used white space cleanup and schema structuring with the load for easier use"
   ],
   "metadata": {
    "collapsed": false
   },
   "id": "b8666916cb3056b1"
  },
  {
   "cell_type": "code",
   "outputs": [
    {
     "name": "stderr",
     "output_type": "stream",
     "text": [
      "24/02/13 17:23:12 WARN MetricsConfig: Cannot locate configuration: tried hadoop-metrics2-s3a-file-system.properties,hadoop-metrics2.properties\n",
      "                                                                                \r"
     ]
    },
    {
     "name": "stdout",
     "output_type": "stream",
     "text": [
      "+-----------+----+------+-----+--------------+\n",
      "|  series_id|year|period|value|footnote_codes|\n",
      "+-----------+----+------+-----+--------------+\n",
      "|PRS30006011|1995|   Q01|    3|          NULL|\n",
      "|PRS30006011|1995|   Q02|    2|          NULL|\n",
      "|PRS30006011|1995|   Q03|    1|          NULL|\n",
      "+-----------+----+------+-----+--------------+\n"
     ]
    }
   ],
   "source": [
    "src_bucket = 'yossi-rearc-test'\n",
    "csv_path = 'api_rest/pr.data.0.Current'\n",
    "\n",
    "\n",
    "schema = StructType(\n",
    "    [\n",
    "        StructField(\"series_id\", StringType()),\n",
    "        StructField(\"year\", IntegerType()),\n",
    "        StructField(\"period\", StringType()),\n",
    "        StructField(\"value\", DecimalType()),\n",
    "        StructField(\"footnote_codes\", StringType())\n",
    "    ]\n",
    ")\n",
    "\n",
    "df_csv = spark.read.format(\"csv\").option(\"header\", \"true\").\\\n",
    "option(\"delimiter\", \"\\t\").option(\"ignoreTrailingWhiteSpace\", \"true\").\\\n",
    "option(\"ignoreLeadingWhiteSpace\", \"true\").schema(schema).load(f's3a://{src_bucket}/{csv_path}')\n",
    "df_csv.show(3)\n",
    "\n"
   ],
   "metadata": {},
   "id": "1012751b-c7ee-4128-b0a9-5d2fddcb298e",
   "execution_count": 2
  },
  {
   "cell_type": "code",
   "execution_count": 7,
   "id": "2c668989",
   "metadata": {},
   "outputs": [
    {
     "name": "stdout",
     "output_type": "stream",
     "text": [
      "+---------+-------+-------------+----------+-------------+----+\n",
      "|ID Nation|ID Year|       Nation|Population|  Slug Nation|Year|\n",
      "+---------+-------+-------------+----------+-------------+----+\n",
      "|  01000US|   2021|United States| 329725481|united-states|2021|\n",
      "|  01000US|   2020|United States| 326569308|united-states|2020|\n",
      "|  01000US|   2019|United States| 324697795|united-states|2019|\n",
      "|  01000US|   2018|United States| 322903030|united-states|2018|\n",
      "|  01000US|   2017|United States| 321004407|united-states|2017|\n",
      "|  01000US|   2016|United States| 318558162|united-states|2016|\n",
      "|  01000US|   2015|United States| 316515021|united-states|2015|\n",
      "|  01000US|   2014|United States| 314107084|united-states|2014|\n",
      "|  01000US|   2013|United States| 311536594|united-states|2013|\n",
      "+---------+-------+-------------+----------+-------------+----+\n"
     ]
    }
   ],
   "source": [
    "json_path = 'json_api/us_pop.json'\n",
    "df_json = spark.read.format(\"json\").option(\"multiline\",\"true\").load(f's3a://{src_bucket}/{json_path}')\n",
    "df_json.show(10)"
   ]
  },
  {
   "cell_type": "markdown",
   "source": [
    "* Renamed columns for easier use in the future"
   ],
   "metadata": {
    "collapsed": false
   },
   "id": "c48a54a5b51792e3"
  },
  {
   "cell_type": "code",
   "outputs": [
    {
     "name": "stdout",
     "output_type": "stream",
     "text": [
      "+----------------+------------+\n",
      "|       pop_stdev|    pop_mean|\n",
      "+----------------+------------+\n",
      "|4257089.54152933|3.17437383E8|\n",
      "+----------------+------------+\n"
     ]
    }
   ],
   "source": [
    "df_json = df_json.withColumnRenamed(\"ID Nation\", \"id_nation\").\\\n",
    "    withColumnRenamed(\"ID Year\", \"id_year\").\\\n",
    "    withColumnRenamed(\"Nation\", \"nation\").\\\n",
    "    withColumnRenamed(\"Population\", \"population\").\\\n",
    "    withColumnRenamed(\"Slug Nation\", \"slug_nation\").\\\n",
    "    withColumnRenamed(\"Year\", \"year\")\n",
    "\n",
    "pop_filtered_df = df_json.select(\"id_nation\", \"nation\", \"id_year\", \"population\").filter(df_json.id_year.between(2013, 2018))\n",
    "\n",
    "pop_result_df = pop_filtered_df.agg(sf.stddev(\"population\").alias(\"pop_stdev\"), sf.mean(\"population\").alias(\"pop_mean\"))\n",
    "pop_result_df.show()"
   ],
   "metadata": {},
   "id": "03682699",
   "execution_count": 4
  },
  {
   "cell_type": "markdown",
   "source": [
    "I assumed I don't have to normalize the data by choosing only years with 4 quarters (first time I saw a year with 5 quarters)"
   ],
   "metadata": {
    "collapsed": false
   },
   "id": "be36986cb7589480"
  },
  {
   "cell_type": "code",
   "outputs": [
    {
     "name": "stderr",
     "output_type": "stream",
     "text": [
      "[Stage 8:>                                                          (0 + 1) / 1]\r"
     ]
    },
    {
     "name": "stdout",
     "output_type": "stream",
     "text": [
      "+-----------+----+---------+\n",
      "|  series_id|year|sum_value|\n",
      "+-----------+----+---------+\n",
      "|PRS30006011|2022|       20|\n",
      "|PRS30006012|2022|       17|\n",
      "|PRS30006013|1998|      703|\n",
      "|PRS30006021|2010|       18|\n",
      "|PRS30006022|2010|       13|\n",
      "|PRS30006023|2014|      504|\n",
      "|PRS30006031|2022|       22|\n",
      "|PRS30006032|2021|       17|\n",
      "|PRS30006033|1998|      699|\n",
      "|PRS30006061|2022|       40|\n",
      "|PRS30006062|2021|       33|\n",
      "|PRS30006063|2023|      631|\n",
      "|PRS30006081|2021|       24|\n",
      "|PRS30006082|2021|       24|\n",
      "|PRS30006083|2013|      112|\n",
      "|PRS30006083|2014|      112|\n",
      "|PRS30006083|2021|      112|\n",
      "|PRS30006091|2002|       44|\n",
      "|PRS30006092|2002|       44|\n",
      "|PRS30006093|2011|      521|\n",
      "|PRS30006101|2020|       34|\n",
      "|PRS30006102|2020|       37|\n",
      "|PRS30006103|2023|      620|\n",
      "|PRS30006111|2020|       32|\n",
      "|PRS30006112|2008|       43|\n",
      "|PRS30006113|2023|      632|\n",
      "|PRS30006131|2021|       18|\n",
      "|PRS30006132|2021|       18|\n",
      "|PRS30006133|2021|      115|\n",
      "|PRS30006151|2020|       26|\n",
      "|PRS30006152|2020|       31|\n",
      "|PRS30006153|2020|      529|\n",
      "|PRS30006161|2010|       50|\n",
      "|PRS30006162|2002|       47|\n",
      "|PRS30006163|2014|      520|\n",
      "|PRS30006171|2015|       11|\n",
      "|PRS30006172|2015|       11|\n",
      "|PRS30006173|2001|      122|\n",
      "|PRS30006211|1997|       35|\n",
      "|PRS30006211|2010|       35|\n",
      "|PRS30006212|1997|       40|\n",
      "|PRS30006213|2007|      530|\n",
      "|PRS30006221|2021|       13|\n",
      "|PRS30006222|2021|       13|\n",
      "|PRS30006223|2021|      115|\n",
      "|PRS30006231|2021|       18|\n",
      "|PRS30006232|2021|       18|\n",
      "|PRS30006233|2021|      112|\n",
      "|PRS31006011|2022|       21|\n",
      "|PRS31006012|2022|       21|\n",
      "+-----------+----+---------+\n"
     ]
    },
    {
     "name": "stderr",
     "output_type": "stream",
     "text": [
      "                                                                                \r"
     ]
    }
   ],
   "source": [
    "##### df_csv.show(3)\n",
    "\n",
    "win_1 = Window.partitionBy(\"series_id\", \"year\")\n",
    "win_2 = Window.partitionBy(\"series_id\").orderBy(sf.col(\"sum_value\").desc())\n",
    "bls_win_df = df_csv.withColumn(\"sum_value\", sf.sum(\"value\").over(win_1)).select(\"series_id\", \"year\", \"sum_value\").distinct()\n",
    "result_df = bls_win_df.withColumn(\"rank\", sf.rank().over(win_2)).filter(sf.col(\"rank\") == 1).drop(\"rank\")\n",
    "result_df.show(50)"
   ],
   "metadata": {},
   "id": "26b1d94b",
   "execution_count": 5
  },
  {
   "cell_type": "markdown",
   "source": [
    "With predefined schemas at upload, join was easier"
   ],
   "metadata": {
    "collapsed": false
   },
   "id": "b0b7937cd6834171"
  },
  {
   "cell_type": "code",
   "outputs": [
    {
     "name": "stdout",
     "output_type": "stream",
     "text": [
      "+-----------+----+------+-----+----------+\n",
      "|  series_id|year|period|value|population|\n",
      "+-----------+----+------+-----+----------+\n",
      "|PRS30006032|1995|   Q01|    0|      NULL|\n",
      "|PRS30006032|1996|   Q01|   -4|      NULL|\n",
      "|PRS30006032|1997|   Q01|    3|      NULL|\n",
      "|PRS30006032|1998|   Q01|    1|      NULL|\n",
      "|PRS30006032|1999|   Q01|   -4|      NULL|\n",
      "|PRS30006032|2000|   Q01|    0|      NULL|\n",
      "|PRS30006032|2001|   Q01|   -6|      NULL|\n",
      "|PRS30006032|2002|   Q01|   -7|      NULL|\n",
      "|PRS30006032|2003|   Q01|   -6|      NULL|\n",
      "|PRS30006032|2004|   Q01|    2|      NULL|\n",
      "|PRS30006032|2005|   Q01|   -1|      NULL|\n",
      "|PRS30006032|2006|   Q01|    3|      NULL|\n",
      "|PRS30006032|2007|   Q01|    0|      NULL|\n",
      "|PRS30006032|2008|   Q01|   -3|      NULL|\n",
      "|PRS30006032|2009|   Q01|  -21|      NULL|\n",
      "|PRS30006032|2010|   Q01|    4|      NULL|\n",
      "|PRS30006032|2011|   Q01|    2|      NULL|\n",
      "|PRS30006032|2012|   Q01|    3|      NULL|\n",
      "|PRS30006032|2013|   Q01|    1| 311536594|\n",
      "|PRS30006032|2014|   Q01|    0| 314107084|\n",
      "+-----------+----+------+-----+----------+\n"
     ]
    }
   ],
   "source": [
    "bls_results_df = df_csv.filter((df_csv.series_id == 'PRS30006032') & (df_csv.period == 'Q01'))\n",
    "results_df = bls_results_df.join(df_json, bls_results_df.year == df_json.year, 'left').select(bls_results_df.series_id, bls_results_df.year, bls_results_df.period, bls_results_df.value, df_json.population)\n",
    "results_df.show()"
   ],
   "metadata": {},
   "id": "b55eb219",
   "execution_count": 6
  },
  {
   "cell_type": "code",
   "execution_count": null,
   "id": "9488872e",
   "metadata": {},
   "outputs": [],
   "source": []
  }
 ],
 "metadata": {
  "kernelspec": {
   "display_name": "conda_python3",
   "language": "python",
   "name": "conda_python3"
  },
  "language_info": {
   "codemirror_mode": {
    "name": "ipython",
    "version": 3
   },
   "file_extension": ".py",
   "mimetype": "text/x-python",
   "name": "python",
   "nbconvert_exporter": "python",
   "pygments_lexer": "ipython3",
   "version": "3.10.13"
  }
 },
 "nbformat": 4,
 "nbformat_minor": 5
}
